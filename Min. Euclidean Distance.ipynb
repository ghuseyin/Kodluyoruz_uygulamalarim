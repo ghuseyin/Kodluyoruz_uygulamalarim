{
 "cells": [
  {
   "cell_type": "code",
   "execution_count": 2,
   "metadata": {},
   "outputs": [],
   "source": [
    "def get_coordinates(index):\n",
    "    x, y = input(f\"x{index} ve y{index} değerlerini girin: \").split()\n",
    "    return int(x), int(y)"
   ]
  },
  {
   "cell_type": "code",
   "execution_count": 3,
   "metadata": {},
   "outputs": [],
   "source": [
    "def euclideanDistance(coor1, coor2):\n",
    "     return ((coor1[0]-coor2[0])**2 + (coor1[1]-coor2[1])**2) ** 0.5"
   ]
  },
  {
   "cell_type": "code",
   "execution_count": 4,
   "metadata": {},
   "outputs": [],
   "source": [
    "count = 5       # number of coordinates\n",
    "points = [get_coordinates(i) for i in range(1, count+1)]"
   ]
  },
  {
   "cell_type": "code",
   "execution_count": 5,
   "metadata": {},
   "outputs": [
    {
     "name": "stdout",
     "output_type": "stream",
     "text": [
      "Point1: (8, 23)\n",
      "Point2: (11, 9)\n",
      "Point3: (12, 12)\n",
      "Point4: (13, 13)\n",
      "Point5: (19, -4)\n"
     ]
    }
   ],
   "source": [
    "for i in range(count):\n",
    "    print(f\"Point{i+1}: {points[i]}\")"
   ]
  },
  {
   "cell_type": "code",
   "execution_count": 6,
   "metadata": {},
   "outputs": [
    {
     "name": "stdout",
     "output_type": "stream",
     "text": [
      "Distance between Point1 and Point2: 14.31782\n",
      "Distance between Point1 and Point3: 11.70470\n",
      "Distance between Point1 and Point4: 11.18034\n",
      "Distance between Point1 and Point5: 29.15476\n",
      "Distance between Point2 and Point3: 3.16228\n",
      "Distance between Point2 and Point4: 4.47214\n",
      "Distance between Point2 and Point5: 15.26434\n",
      "Distance between Point3 and Point4: 1.41421\n",
      "Distance between Point3 and Point5: 17.46425\n",
      "Distance between Point4 and Point5: 18.02776\n"
     ]
    }
   ],
   "source": [
    "distances = []  # a list for saving distances of between all coordinates\n",
    "for i in range(count):\n",
    "    for j in range(i+1, count):\n",
    "        distances.append(euclideanDistance(points[i], points[j]))\n",
    "        print(f\"Distance between Point{i+1} and Point{j+1}: {distances[-1]:.5f}\")"
   ]
  },
  {
   "cell_type": "code",
   "execution_count": 7,
   "metadata": {},
   "outputs": [
    {
     "name": "stdout",
     "output_type": "stream",
     "text": [
      "Minimum distance: 1.41421\n"
     ]
    }
   ],
   "source": [
    "print(f\"Minimum distance: {min(distances):.5f}\")"
   ]
  }
 ],
 "metadata": {
  "kernelspec": {
   "display_name": "Python 3",
   "language": "python",
   "name": "python3"
  },
  "language_info": {
   "codemirror_mode": {
    "name": "ipython",
    "version": 3
   },
   "file_extension": ".py",
   "mimetype": "text/x-python",
   "name": "python",
   "nbconvert_exporter": "python",
   "pygments_lexer": "ipython3",
   "version": "3.10.12"
  }
 },
 "nbformat": 4,
 "nbformat_minor": 2
}
